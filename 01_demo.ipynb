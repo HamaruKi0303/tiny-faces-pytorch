{
 "cells": [
  {
   "cell_type": "code",
   "execution_count": 1,
   "id": "9bcf34f2-bbbd-4fec-ad62-dc856a589e58",
   "metadata": {
    "tags": []
   },
   "outputs": [
    {
     "name": "stdout",
     "output_type": "stream",
     "text": [
      "/home/tiny-faces\n"
     ]
    }
   ],
   "source": [
    "HOME_PATH = \"/home/tiny-faces\"\n",
    "\n",
    "ROOT=\"data/WIDER\"\n",
    "TRAINDATA=ROOT + \"/wider_face_split/wider_face_train_bbx_gt.txt\"\n",
    "VALDATA=ROOT + \"/wider_face_split/wider_face_val_bbx_gt.txt\"\n",
    "TESTDATA=ROOT + \"/wider_face_split/wider_face_test_filelist.txt\"\n",
    "CHECKPOINT = \"weights/checkpoint_50_best.pth\"\n",
    "\n",
    "%cd \"$HOME_PATH\""
   ]
  },
  {
   "cell_type": "code",
   "execution_count": 2,
   "id": "841f4870-3109-4449-9fa6-7f5d98b53a89",
   "metadata": {
    "tags": []
   },
   "outputs": [
    {
     "name": "stdout",
     "output_type": "stream",
     "text": [
      "pyclust                       0.2.0\n",
      "pyclustering                  0.10.1.2\n"
     ]
    }
   ],
   "source": [
    "!pip list | grep pyclust"
   ]
  },
  {
   "cell_type": "code",
   "execution_count": 3,
   "id": "1e23c8d2-6d56-480e-81dc-ce1e7cf5f5cf",
   "metadata": {
    "tags": []
   },
   "outputs": [
    {
     "name": "stdout",
     "output_type": "stream",
     "text": [
      "/opt/conda/bin/pip\n"
     ]
    }
   ],
   "source": [
    "!which pip"
   ]
  },
  {
   "cell_type": "code",
   "execution_count": 4,
   "id": "fe107c35-56f0-46f1-bc41-c409ecea13e0",
   "metadata": {
    "tags": []
   },
   "outputs": [
    {
     "name": "stdout",
     "output_type": "stream",
     "text": [
      "/opt/conda/bin/python\n"
     ]
    }
   ],
   "source": [
    "!which python"
   ]
  },
  {
   "cell_type": "code",
   "execution_count": 5,
   "id": "cd81eb21-050b-4282-bc7a-2be761149dc5",
   "metadata": {
    "tags": []
   },
   "outputs": [
    {
     "name": "stdout",
     "output_type": "stream",
     "text": [
      "Dataset loaded\n",
      "16097 samples in the test dataset\n",
      "/opt/conda/lib/python3.8/site-packages/torchvision/models/_utils.py:208: UserWarning: The parameter 'pretrained' is deprecated since 0.13 and will be removed in 0.15, please use 'weights' instead.\n",
      "  warnings.warn(\n",
      "/opt/conda/lib/python3.8/site-packages/torchvision/models/_utils.py:223: UserWarning: Arguments other than a weight enum or `None` for 'weights' are deprecated since 0.13 and will be removed in 0.15. The current behavior is equivalent to passing `weights=ResNet101_Weights.IMAGENET1K_V1`. You can also use `weights=ResNet101_Weights.DEFAULT` to get the most up-to-date weights.\n",
      "  warnings.warn(msg)\n",
      "Downloading: \"https://download.pytorch.org/models/resnet101-63fe2227.pth\" to /root/.cache/torch/hub/checkpoints/resnet101-63fe2227.pth\n",
      "100%|████████████████████████████████████████| 171M/171M [00:15<00:00, 11.7MB/s]\n",
      " 34%|████████████▎                       | 5507/16097 [39:17<1:13:01,  2.42it/s]^C\n",
      " 34%|████████████▎                       | 5507/16097 [39:18<1:15:34,  2.34it/s]\n",
      "Traceback (most recent call last):\n",
      "  File \"evaluate.py\", line 116, in <module>\n",
      "    main()\n",
      "  File \"evaluate.py\", line 110, in main\n",
      "    run(model, val_loader, templates, args.prob_thresh, args.nms_thresh,\n",
      "  File \"evaluate.py\", line 87, in run\n",
      "    dets = trainer.get_detections(model, img, templates, val_loader.dataset.rf,\n",
      "  File \"/home/tiny-faces/trainer.py\", line 118, in get_detections\n",
      "    output = model(x)\n",
      "  File \"/opt/conda/lib/python3.8/site-packages/torch/nn/modules/module.py\", line 1185, in _call_impl\n",
      "    return forward_call(*input, **kwargs)\n",
      "  File \"/home/tiny-faces/models/model.py\", line 74, in forward\n",
      "    x = self.model.layer2(x)\n",
      "  File \"/opt/conda/lib/python3.8/site-packages/torch/nn/modules/module.py\", line 1185, in _call_impl\n",
      "    return forward_call(*input, **kwargs)\n",
      "  File \"/opt/conda/lib/python3.8/site-packages/torch/nn/modules/container.py\", line 204, in forward\n",
      "    input = module(input)\n",
      "  File \"/opt/conda/lib/python3.8/site-packages/torch/nn/modules/module.py\", line 1185, in _call_impl\n",
      "    return forward_call(*input, **kwargs)\n",
      "  File \"/opt/conda/lib/python3.8/site-packages/torchvision/models/resnet.py\", line 154, in forward\n",
      "    out = self.conv3(out)\n",
      "  File \"/opt/conda/lib/python3.8/site-packages/torch/nn/modules/module.py\", line 1185, in _call_impl\n",
      "    return forward_call(*input, **kwargs)\n",
      "  File \"/opt/conda/lib/python3.8/site-packages/torch/nn/modules/conv.py\", line 463, in forward\n",
      "    return self._conv_forward(input, self.weight, self.bias)\n",
      "  File \"/opt/conda/lib/python3.8/site-packages/torch/nn/modules/conv.py\", line 459, in _conv_forward\n",
      "    return F.conv2d(input, weight, bias, self.stride,\n",
      "KeyboardInterrupt\n"
     ]
    }
   ],
   "source": [
    "!python evaluate.py \"$TESTDATA\" --dataset-root \"$ROOT\" --checkpoint \"$CHECKPOINT\" --split test"
   ]
  },
  {
   "cell_type": "code",
   "execution_count": null,
   "id": "d65b7c06-19de-4380-9fee-aeaebba56b93",
   "metadata": {},
   "outputs": [],
   "source": []
  }
 ],
 "metadata": {
  "kernelspec": {
   "display_name": "Python 3 (ipykernel)",
   "language": "python",
   "name": "python3"
  },
  "language_info": {
   "codemirror_mode": {
    "name": "ipython",
    "version": 3
   },
   "file_extension": ".py",
   "mimetype": "text/x-python",
   "name": "python",
   "nbconvert_exporter": "python",
   "pygments_lexer": "ipython3",
   "version": "3.8.13"
  }
 },
 "nbformat": 4,
 "nbformat_minor": 5
}
